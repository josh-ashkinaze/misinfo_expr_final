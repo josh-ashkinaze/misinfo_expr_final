{
 "cells": [
  {
   "cell_type": "markdown",
   "id": "57a9b1a7",
   "metadata": {
    "toc": true
   },
   "source": [
    "<h1>Table of Contents<span class=\"tocSkip\"></span></h1>\n",
    "<div class=\"toc\"><ul class=\"toc-item\"><li><span><a href=\"#Packages\" data-toc-modified-id=\"Packages-1\"><span class=\"toc-item-num\">1&nbsp;&nbsp;</span>Packages</a></span></li><li><span><a href=\"#Merge-Metadata-to-Final-Model\" data-toc-modified-id=\"Merge-Metadata-to-Final-Model-2\"><span class=\"toc-item-num\">2&nbsp;&nbsp;</span>Merge Metadata to Final Model</a></span></li><li><span><a href=\"#Apply-strata-randomization-to-eligible-followers\" data-toc-modified-id=\"Apply-strata-randomization-to-eligible-followers-3\"><span class=\"toc-item-num\">3&nbsp;&nbsp;</span>Apply strata randomization to eligible followers</a></span></li><li><span><a href=\"#Power-Analysis\" data-toc-modified-id=\"Power-Analysis-4\"><span class=\"toc-item-num\">4&nbsp;&nbsp;</span>Power Analysis</a></span></li><li><span><a href=\"#Get-users-based-on-power-analysis\" data-toc-modified-id=\"Get-users-based-on-power-analysis-5\"><span class=\"toc-item-num\">5&nbsp;&nbsp;</span>Get users based on power analysis</a></span></li></ul></div>"
   ]
  },
  {
   "cell_type": "markdown",
   "id": "b553e1ae",
   "metadata": {},
   "source": [
    "# Packages"
   ]
  },
  {
   "cell_type": "code",
   "execution_count": 1,
   "id": "652e3c06-dc49-4506-a769-cda44b90ad11",
   "metadata": {
    "is_executing": true
   },
   "outputs": [],
   "source": [
    "import pandas as pd\n",
    "import os \n",
    "import pandas as pd\n",
    "import numpy as np\n",
    "from joblib import Parallel, delayed\n",
    "import numpy as np\n",
    "import pandas as pd\n",
    "from statsmodels.stats.contingency_tables import mcnemar\n",
    "import matplotlib.pyplot as plt\n",
    "import concurrent.futures\n",
    "import seaborn as sns\n",
    "import random \n",
    "\n",
    "\n",
    "np.random.seed(416)\n",
    "random.seed(416)"
   ]
  },
  {
   "cell_type": "markdown",
   "id": "b6221d6b-5d21-4476-8334-a5de8e1c69d5",
   "metadata": {},
   "source": [
    "# Merge Metadata to Final Model"
   ]
  },
  {
   "cell_type": "code",
   "execution_count": null,
   "id": "36c5913a-b17c-4c72-a05e-400e93f9bad2",
   "metadata": {},
   "outputs": [],
   "source": [
    "# Takes around 20m\n",
    "\n",
    "print(\"Making data file\")\n",
    "\n",
    "print(\"Reading in data\")\n",
    "df1 = pd.read_csv(\"metadata_blog_tweet_merge_CLEAN_ND.csv\")\n",
    "df2 = pd.read_csv(\"filtered_parsed_tweetsND22.csv\", dtype={'user_id':'object'})\n",
    "hydrated_main = pd.read_csv(\"HydratedMain_ND22_t1_t3_v2___10.02.2023__22.42.29__START0_END-1_merged.csv\", dtype={'user_id':'object'})\n",
    "hydrated_follower = pd.read_csv(\"HydratedFollowers_ND22_t1_t3_v2___10.02.2023__14.23.39__START0_END-1_merged.csv\", dtype={'user_id':'object'})\n",
    "mod = pd.read_csv(\"s2_mar23_oct23_ideoY_final_mod.csv\", dtype={'main':'object', 'followers_id':'object'})\n",
    "\n",
    "print(\"Getting days since tweet\")\n",
    "hydrated_follower['last_tweet_date'] = pd.to_datetime(hydrated_follower['last_tweet_date'], errors='coerce', utc=True)\n",
    "comparison_date_utc = pd.Timestamp('2023-10-02 00:00:00', tz='UTC')\n",
    "hydrated_follower['days_since_last_tweet'] = (comparison_date_utc - hydrated_follower['last_tweet_date']).dt.days\n",
    "hydrated_follower['days_since_last_tweet'] = hydrated_follower['days_since_last_tweet'].clip(lower=0)\n",
    "hydrated_follower = hydrated_follower.rename(columns = {'username':'follower_username'})\n",
    "\n",
    "print(\"Merging data\")\n",
    "pf_merged = pd.merge(df1, df2, left_on=['misinfo_url'], right_on=['misinfo_match'], indicator='pf_merge', how='inner')\n",
    "pf_merged = pf_merged.rename(columns = {'url':'pf_url'})\n",
    "display(pf_merged['pf_merge'].value_counts())\n",
    "pf_merged.to_csv(\"merged_politifact_tweet_data.csv\")\n",
    "\n",
    "hydrated_main = hydrated_main.rename(columns = {'username':'spreader_username'})\n",
    "pf_merged = pd.merge(pf_merged, hydrated_main, left_on=['user_id'], right_on=['user_id'], indicator=\"merge_hydrated_spreader\", how='left')\n",
    "\n",
    "display(pf_merged['merge_hydrated_spreader'].value_counts())\n",
    "\n",
    "pf_merged = pd.merge(pf_merged, mod, left_on=['user_id'], right_on=['main'], indicator=\"merge_model_data\", how='left')\n",
    "display(pf_merged['merge_model_data'].value_counts())\n",
    "\n",
    "pf_merged = pd.merge(pf_merged, hydrated_follower, left_on=['user_id'], right_on=['user_id'], indicator=\"merge_hydrated_follower\", how='left')\n",
    "display(pf_merged['merge_hydrated_follower'].value_counts())\n",
    "print(\"Data merged\")\n",
    "\n",
    "pf_merged = pf_merged.dropna(subset=['main', 'followers_id'])\n",
    "pf_merged = pf_merged.drop_duplicates(subset=['main', 'followers_id'])\n",
    "\n",
    "\n",
    "print(\"Writing to csv\")\n",
    "pf_merged.to_csv(\"all_edge_data.csv\")\n",
    "print(\"Done\")"
   ]
  },
  {
   "cell_type": "markdown",
   "id": "abd2d035",
   "metadata": {},
   "source": [
    "# Apply strata randomization to eligible followers"
   ]
  },
  {
   "cell_type": "code",
   "execution_count": 2,
   "id": "e515f754",
   "metadata": {},
   "outputs": [
    {
     "name": "stdout",
     "output_type": "stream",
     "text": [
      "reading csv\n"
     ]
    },
    {
     "name": "stderr",
     "output_type": "stream",
     "text": [
      "/Users/jashkina/opt/anaconda3/lib/python3.8/site-packages/IPython/core/interactiveshell.py:3357: DtypeWarning: Columns (9,13,33,34,35) have mixed types.Specify dtype option on import or set low_memory=False.\n",
      "  if (await self.run_code(code, result,  async_=asy)):\n",
      "<ipython-input-2-feb88e3e362c>:18: SettingWithCopyWarning: \n",
      "A value is trying to be set on a copy of a slice from a DataFrame.\n",
      "Try using .loc[row_indexer,col_indexer] = value instead\n",
      "\n",
      "See the caveats in the documentation: https://pandas.pydata.org/pandas-docs/stable/user_guide/indexing.html#returning-a-view-versus-a-copy\n",
      "  df['followers_assigned_spreader'] = df.groupby(by=['main'])['followers_id'].transform(lambda x: len(set(x)))\n"
     ]
    },
    {
     "name": "stdout",
     "output_type": "stream",
     "text": [
      "Generating sample\n"
     ]
    },
    {
     "name": "stderr",
     "output_type": "stream",
     "text": [
      "<ipython-input-2-feb88e3e362c>:82: SettingWithCopyWarning: \n",
      "A value is trying to be set on a copy of a slice from a DataFrame.\n",
      "Try using .loc[row_indexer,col_indexer] = value instead\n",
      "\n",
      "See the caveats in the documentation: https://pandas.pydata.org/pandas-docs/stable/user_guide/indexing.html#returning-a-view-versus-a-copy\n",
      "  to_sample['edge_no'] = pd.factorize(to_sample['spreader_username'])[0]\n",
      "<ipython-input-2-feb88e3e362c>:83: SettingWithCopyWarning: \n",
      "A value is trying to be set on a copy of a slice from a DataFrame.\n",
      "Try using .loc[row_indexer,col_indexer] = value instead\n",
      "\n",
      "See the caveats in the documentation: https://pandas.pydata.org/pandas-docs/stable/user_guide/indexing.html#returning-a-view-versus-a-copy\n",
      "  to_sample['idx'] = to_sample.index\n",
      "<ipython-input-2-feb88e3e362c>:84: SettingWithCopyWarning: \n",
      "A value is trying to be set on a copy of a slice from a DataFrame.\n",
      "Try using .loc[row_indexer,col_indexer] = value instead\n",
      "\n",
      "See the caveats in the documentation: https://pandas.pydata.org/pandas-docs/stable/user_guide/indexing.html#returning-a-view-versus-a-copy\n",
      "  to_sample['treat'] = to_sample['idx'].apply(lambda x: 1 if x in treatment_indices else 0)\n"
     ]
    },
    {
     "name": "stdout",
     "output_type": "stream",
     "text": [
      "Saving sample\n"
     ]
    }
   ],
   "source": [
    "import pandas as pd\n",
    "\n",
    "def read_data(file_path):\n",
    "    \"\"\"\n",
    "    Read data from a CSV file and return a DataFrame.\n",
    "    \"\"\"\n",
    "    print(\"reading csv\")\n",
    "    df = pd.read_csv(file_path, dtype={\"followers_id\": 'object', 'main': 'object'})\n",
    "    return df\n",
    "\n",
    "def apply_inclusion_criteria(tdf, days_since_tweet, min_followers_assigned_spreader, filter_for_non_recip=False):\n",
    "    \"\"\"\n",
    "    Apply inclusion criteria to the DataFrame.\n",
    "    \"\"\"\n",
    "    df = tdf.query(f\"days_since_last_tweet < {days_since_tweet}\")\n",
    "    if filter_for_non_recip:\n",
    "        df = df.query(\"recip==0\")\n",
    "    df['followers_assigned_spreader'] = df.groupby(by=['main'])['followers_id'].transform(lambda x: len(set(x)))\n",
    "    df = df.query(f\"followers_assigned_spreader >= {min_followers_assigned_spreader}\")\n",
    "    return df \n",
    "\n",
    "def define_strata(df, strata_columns):\n",
    "    \"\"\"\n",
    "    Define strata for the DataFrame.\n",
    "    \"\"\"\n",
    "    for x in strata_columns:\n",
    "        df[f\"{x}_strata\"] = pd.qcut(df[x], 2, labels=False, duplicates='drop')\n",
    "    strata_cols = [x for x in df.columns if \"strata\" in x or \"is_liberal\" in x]\n",
    "    df['block'] = df[strata_cols].apply(lambda row: '_'.join(row.values.astype(str)), axis=1)\n",
    "    return df\n",
    "\n",
    "def strata_randomization(df, ego_col, alter_col, strata_col, random_state=416):\n",
    "    \"\"\"\n",
    "    Strata-based sequential network randomization algorithm.\n",
    "    \n",
    "    The idea is to select a pair (control, treatment) of alters for an ego where both alters are from the same strata, \n",
    "    attempting to balance strata of the resultant sample. \n",
    "    \n",
    "    Returns:\n",
    "        A dict with keys `total_sample`, `control`, `treatment` where values are an array of pandas indicies of the original dataframe. \n",
    "        \n",
    "    \"\"\"\n",
    "    block_dict = {}\n",
    "    for block in df[strata_col].unique():\n",
    "        block_dict[block] = 0\n",
    "\n",
    "    total_sample = []\n",
    "    control = []\n",
    "    treatment = []\n",
    "\n",
    "    egos = set(df[ego_col].values)\n",
    "\n",
    "    for ego in egos:\n",
    "        sdf = df.query(\"{}=='{}'\".format(ego_col, ego))  \n",
    "        sdf = sdf.loc[~sdf.index.isin(total_sample)]\n",
    "        random_blocks = sorted(block_dict, key=block_dict.get, reverse=False)\n",
    "        for block_val in random_blocks:\n",
    "            block_sdf = sdf[sdf[strata_col] == block_val] \n",
    "            if len(block_sdf) < 2:\n",
    "                continue\n",
    "            else:\n",
    "                sample = list(block_sdf.sample(2, random_state=random_state).index)\n",
    "                total_sample.extend(sample)\n",
    "                control.append(sample[0])\n",
    "                treatment.append(sample[1])\n",
    "                block_dict[block_val] += 2\n",
    "                break\n",
    "    return {'total_sample':total_sample, 'control':control, 'treatment':treatment}\n",
    " \n",
    "\n",
    "def gen_sample(df, ego_col, alter_col, strata_col, output_file):\n",
    "    \"\"\"\n",
    "    Generate sample using strata randomization and save to CSV.\n",
    "    \"\"\"\n",
    "    print(\"Generating sample\")\n",
    "    sample = strata_randomization(df, ego_col, alter_col, strata_col)\n",
    "    total_indices = sample['total_sample']\n",
    "    control_indices = sample['control']\n",
    "    treatment_indices = sample['treatment']\n",
    "    \n",
    "    to_sample = df[df.index.isin(total_indices)]\n",
    "    to_sample['edge_no'] = pd.factorize(to_sample['spreader_username'])[0]\n",
    "    to_sample['idx'] = to_sample.index\n",
    "    to_sample['treat'] = to_sample['idx'].apply(lambda x: 1 if x in treatment_indices else 0)\n",
    "    print(\"Saving sample\")\n",
    "    to_sample.to_csv(output_file)\n",
    "    return to_sample\n",
    "    \n",
    "\n",
    "file_path = \"all_edge_data.csv\"\n",
    "df = read_data(file_path)\n",
    "df = apply_inclusion_criteria(df, days_since_tweet=21, \n",
    "                              min_followers_assigned_spreader=2,\n",
    "                             filter_for_non_recip = True)\n",
    "strata_columns = ['t2_follower_following_count', 't2_follower_tweet_count', 'n_spreader_following']\n",
    "df = define_strata(df, strata_columns)\n",
    "to_sample = gen_sample(df, ego_col='main', alter_col='followers_id', strata_col='block', output_file=\"strata_all_ties_for_pow.csv\")"
   ]
  },
  {
   "cell_type": "markdown",
   "id": "b487aeba",
   "metadata": {},
   "source": [
    "# Power Analysis\n",
    "\n",
    "A laboratory experiment (Kaiser et al. (2022)) asked users to imagine that somebody the participant followed posted misinformation. Then the study asked participant's to rate their intentions to unfollow that individual on a scale of 1-6, with 1 being unfollowing \"does not at all apply\" and 6 being \"does fully apply\". Summing the percentage of respondents who answered 4-6 is a rough measure of the percentage of respondent's who would be more likely than not to unfollow. That sum is ~19%. We then 'discount' this effect size by different values."
   ]
  },
  {
   "cell_type": "code",
   "execution_count": 4,
   "id": "6e8928f0",
   "metadata": {},
   "outputs": [
    {
     "name": "stdout",
     "output_type": "stream",
     "text": [
      "14 DAYS\n"
     ]
    },
    {
     "data": {
      "image/png": "[encoded data removed]",
      "text/plain": [
       "<Figure size 720x432 with 1 Axes>"
      ]
     },
     "metadata": {
      "needs_background": "light"
     },
     "output_type": "display_data"
    },
    {
     "name": "stdout",
     "output_type": "stream",
     "text": [
      "   treatment_prop  N_pairs treatment_prop_label\n",
      "0         0.00950     1850                0.010\n",
      "1         0.01425      950                0.014\n",
      "2         0.01900      600                0.019\n",
      "3         0.03800      300                0.038\n",
      "4         0.05700      300                0.057\n"
     ]
    },
    {
     "data": {
      "text/plain": [
       "<Figure size 432x288 with 0 Axes>"
      ]
     },
     "metadata": {},
     "output_type": "display_data"
    }
   ],
   "source": [
    "def run_power_analysis(params):\n",
    "    \"\"\"Run power analysis and plot the results.\"\"\"\n",
    "    \n",
    "    # Default params to be overwritten by `params` dict\n",
    "    control_prop = params.get('control_prop', 0.01)\n",
    "    treatment_props = params.get('treatment_prop', [0.20*0.19, 0.10*0.19, 0.05*0.19])\n",
    "    N_values = params.get('N_values', range(500, 5050, 50))\n",
    "\n",
    "    n_simulations = params.get('n_simulations', 1000)\n",
    "    \n",
    "    n_jobs = -1  # \n",
    "    \n",
    "    all_records = []\n",
    "    \n",
    "    for treatment_prop in treatment_props:\n",
    "        results = Parallel(n_jobs=n_jobs)(\n",
    "            delayed(estimate_power)(N, control_prop, treatment_prop, 0.05, n_simulations) for N in N_values\n",
    "        )\n",
    "\n",
    "        records = [{'iteration': i + 1, 'control_prop': control_prop, 'treatment_prop': treatment_prop, 'power': power, 'N_pairs': N} \n",
    "                   for i, (power, N) in enumerate(zip(results, N_values))]\n",
    "        df = pd.DataFrame(records)\n",
    "        all_records.append(df)\n",
    "    return pd.concat(all_records, ignore_index=True)\n",
    "\n",
    "def make_graph(df_results):\n",
    "    df_results['treatment_prop_label'] = df_results['treatment_prop'].apply(lambda x: f\"{x:.3f}\")\n",
    "    plt.figure(figsize=(10,6))\n",
    "    title = r\"$\\bf{McNemar\\ Test\\ Power\\ Analysis}$\" + \"\\n\\nThe treatment unfollowing rate is assumed to be\\n30%, 20%, 10%, 7.5%, and 5% of the effect size\\nfrom Kaiser et al. (2022).\"\n",
    "    plt.title(title, ha='left', x=0)\n",
    "    sns.lineplot(data=df_results, x=\"N_pairs\", y=\"power\", hue=\"treatment_prop_label\")\n",
    "    plt.axhline(y=0.8, linestyle='dashed', color='red', linewidth=7)\n",
    "    plt.legend(bbox_to_anchor=(1.05, 1), loc='upper left', title=\"Treatment Unfollowing Prop.\")\n",
    "    plt.xlabel(\"Number of (Treatment, Control) Pairs\")\n",
    "    sns.despine()\n",
    "    plt.show()\n",
    "    plt.savefig(\"power_analysis.png\", dpi=400)\n",
    "\n",
    "def find_required_N(df_results):\n",
    "    \"\"\"Find the N required to achieve 80% power for each treatment_prop.\"\"\"\n",
    "    df_filtered = df_results[df_results['power'] >= 0.8]\n",
    "    df_required_N = df_filtered.groupby('treatment_prop', as_index=False)['N_pairs'].min()\n",
    "    df_required_N['treatment_prop_label'] = df_required_N['treatment_prop'].apply(lambda x: f\"{x:.3f}\")\n",
    "    return df_required_N\n",
    "\n",
    "def generate_table(N, control_prop, treatment_prop):\n",
    "    \"\"\"Generate a contingency table.\"\"\"\n",
    "    control = np.random.binomial(1, control_prop, N)\n",
    "    treatment = np.random.binomial(1, treatment_prop, N)\n",
    "    table = np.array([\n",
    "        [np.sum(control & treatment), np.sum(control & ~treatment)],\n",
    "        [np.sum(~control & treatment), np.sum(~control & ~treatment)]\n",
    "    ])\n",
    "    return table\n",
    "\n",
    "def perform_test(table, alpha=0.05):\n",
    "    \"\"\"Perform the McNemar Test and return whether the p-value is less than alpha.\"\"\"\n",
    "    result = mcnemar(table, exact=False, correction=False)\n",
    "    return result.pvalue < alpha\n",
    "\n",
    "def run_simulation(N, control_prop, treatment_prop, alpha):\n",
    "    \"\"\"Run a single simulation.\"\"\"\n",
    "    table = generate_table(N, control_prop, treatment_prop)\n",
    "    is_significant = perform_test(table, alpha)\n",
    "    return is_significant\n",
    "\n",
    "def estimate_power(N, control_prop, treatment_prop, alpha=0.05, n_simulations=100):\n",
    "    \"\"\"Estimate the power of the test.\"\"\"\n",
    "    significant_count = np.sum([run_simulation(N, control_prop, treatment_prop, alpha) for _ in range(n_simulations)])\n",
    "    return significant_count / n_simulations\n",
    "\n",
    "\n",
    "print(\"14 DAYS\")\n",
    "params = {\n",
    "    'control_prop': to_sample.query(\"treat==0\")['unfollowed'].mean()/ (191/14),\n",
    "    'treatment_prop': [0.3*0.19, 0.2*0.19, 0.10*0.19, 0.075*0.19, 0.05*0.19],\n",
    "    'N_values': range(300, 3000, 50),\n",
    "    'n_days':[7, 14, 21, 28],\n",
    "    'n_simulations': 5000\n",
    "}\n",
    "df_results = run_power_analysis(params)\n",
    "make_graph(df_results)\n",
    "print(find_required_N(df_results))"
   ]
  },
  {
   "cell_type": "markdown",
   "id": "574f5424",
   "metadata": {},
   "source": [
    "# Get users based on power analysis"
   ]
  },
  {
   "cell_type": "code",
   "execution_count": 24,
   "id": "b3153af1",
   "metadata": {},
   "outputs": [
    {
     "name": "stdout",
     "output_type": "stream",
     "text": [
      "reading csv\n"
     ]
    },
    {
     "name": "stderr",
     "output_type": "stream",
     "text": [
      "/Users/jashkina/opt/anaconda3/lib/python3.8/site-packages/IPython/core/interactiveshell.py:3357: DtypeWarning: Columns (9,13,33,34,35) have mixed types.Specify dtype option on import or set low_memory=False.\n",
      "  if (await self.run_code(code, result,  async_=asy)):\n",
      "<ipython-input-15-feb88e3e362c>:18: SettingWithCopyWarning: \n",
      "A value is trying to be set on a copy of a slice from a DataFrame.\n",
      "Try using .loc[row_indexer,col_indexer] = value instead\n",
      "\n",
      "See the caveats in the documentation: https://pandas.pydata.org/pandas-docs/stable/user_guide/indexing.html#returning-a-view-versus-a-copy\n",
      "  df['followers_assigned_spreader'] = df.groupby(by=['main'])['followers_id'].transform(lambda x: len(set(x)))\n"
     ]
    },
    {
     "name": "stdout",
     "output_type": "stream",
     "text": [
      "Generating sample\n"
     ]
    },
    {
     "name": "stderr",
     "output_type": "stream",
     "text": [
      "<ipython-input-15-feb88e3e362c>:82: SettingWithCopyWarning: \n",
      "A value is trying to be set on a copy of a slice from a DataFrame.\n",
      "Try using .loc[row_indexer,col_indexer] = value instead\n",
      "\n",
      "See the caveats in the documentation: https://pandas.pydata.org/pandas-docs/stable/user_guide/indexing.html#returning-a-view-versus-a-copy\n",
      "  to_sample['edge_no'] = pd.factorize(to_sample['spreader_username'])[0]\n",
      "<ipython-input-15-feb88e3e362c>:83: SettingWithCopyWarning: \n",
      "A value is trying to be set on a copy of a slice from a DataFrame.\n",
      "Try using .loc[row_indexer,col_indexer] = value instead\n",
      "\n",
      "See the caveats in the documentation: https://pandas.pydata.org/pandas-docs/stable/user_guide/indexing.html#returning-a-view-versus-a-copy\n",
      "  to_sample['idx'] = to_sample.index\n",
      "<ipython-input-15-feb88e3e362c>:84: SettingWithCopyWarning: \n",
      "A value is trying to be set on a copy of a slice from a DataFrame.\n",
      "Try using .loc[row_indexer,col_indexer] = value instead\n",
      "\n",
      "See the caveats in the documentation: https://pandas.pydata.org/pandas-docs/stable/user_guide/indexing.html#returning-a-view-versus-a-copy\n",
      "  to_sample['treat'] = to_sample['idx'].apply(lambda x: 1 if x in treatment_indices else 0)\n"
     ]
    },
    {
     "name": "stdout",
     "output_type": "stream",
     "text": [
      "Saving sample\n"
     ]
    }
   ],
   "source": [
    "random.seed(416)\n",
    "n_pairs = 700\n",
    "n_pairs_buffer = 800\n",
    "\n",
    "file_path = \"all_edge_data.csv\"\n",
    "df = read_data(file_path)\n",
    "df = df.query(\"unfollowed==0\")\n",
    "df = apply_inclusion_criteria(df, days_since_tweet=21, \n",
    "                              min_followers_assigned_spreader=2,\n",
    "                             filter_for_non_recip = True)\n",
    "strata_columns = ['t2_follower_following_count', 't2_follower_tweet_count', 'n_spreader_following']\n",
    "df = define_strata(df, strata_columns)\n",
    "to_sample = gen_sample(df, ego_col='main', alter_col='followers_id', strata_col='block', output_file=\"all_eligible_edges.csv\")\n",
    "\n",
    "\n",
    "\n",
    "# Select a subset of eligible edges\n",
    "final_edges = random.sample(set(to_sample['edge_no'].tolist()), n_pairs_buffer)\n",
    "to_sample_final = to_sample[to_sample['edge_no'].isin(final_edges)]\n",
    "\n",
    "# Reindex edge number\n",
    "to_sample_final['edge_no'] = pd.factorize(to_sample_final['spreader_username'])[0]\n",
    "\n",
    "# Save to CSV\n",
    "to_sample_final.to_csv(\"final_edges.csv\")              "
   ]
  },
  {
   "cell_type": "code",
   "execution_count": null,
   "id": "2935c4c7",
   "metadata": {},
   "outputs": [],
   "source": [
    "def make_msg(row):\n",
    "    print(f\"Hi @ row['follower_username']\")"
   ]
  },
  {
   "cell_type": "code",
   "execution_count": 42,
   "id": "183e1424",
   "metadata": {},
   "outputs": [],
   "source": [
    "to_sample_final"
   ]
  },
  {
   "cell_type": "code",
   "execution_count": null,
   "id": "3e7bfd33",
   "metadata": {},
   "outputs": [],
   "source": []
  }
 ],
 "metadata": {
  "kernelspec": {
   "display_name": "PyCharm (misinformation_sim)",
   "language": "python",
   "name": "pycharm-9607488f"
  },
  "language_info": {
   "codemirror_mode": {
    "name": "ipython",
    "version": 3
   },
   "file_extension": ".py",
   "mimetype": "text/x-python",
   "name": "python",
   "nbconvert_exporter": "python",
   "pygments_lexer": "ipython3",
   "version": "3.8.8"
  },
  "toc": {
   "base_numbering": 1,
   "nav_menu": {},
   "number_sections": true,
   "sideBar": true,
   "skip_h1_title": false,
   "title_cell": "Table of Contents",
   "title_sidebar": "Contents",
   "toc_cell": true,
   "toc_position": {},
   "toc_section_display": true,
   "toc_window_display": false
  },
  "varInspector": {
   "cols": {
    "lenName": 16,
    "lenType": 16,
    "lenVar": 40
   },
   "kernels_config": {
    "python": {
     "delete_cmd_postfix": "",
     "delete_cmd_prefix": "del ",
     "library": "var_list.py",
     "varRefreshCmd": "print(var_dic_list())"
    },
    "r": {
     "delete_cmd_postfix": ") ",
     "delete_cmd_prefix": "rm(",
     "library": "var_list.r",
     "varRefreshCmd": "cat(var_dic_list()) "
    }
   },
   "types_to_exclude": [
    "module",
    "function",
    "builtin_function_or_method",
    "instance",
    "_Feature"
   ],
   "window_display": false
  }
 },
 "nbformat": 4,
 "nbformat_minor": 5
}
